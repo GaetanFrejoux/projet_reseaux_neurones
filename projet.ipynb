{
 "cells": [
  {
   "attachments": {},
   "cell_type": "markdown",
   "metadata": {},
   "source": [
    "# **Projet portant sur les réseaux de neurones**\n",
    "### **Réalisé par Fréjoux Gaëtan et Niord Mathieu**\n",
    "---"
   ]
  },
  {
   "cell_type": "code",
   "execution_count": null,
   "metadata": {},
   "outputs": [],
   "source": [
    "import numpy as np\n",
    "import pandas as pd\n",
    "import matplotlib.pyplot as plt"
   ]
  },
  {
   "attachments": {},
   "cell_type": "markdown",
   "metadata": {},
   "source": [
    "## 1. Développement d'un perceptron\n",
    "α sera égal à 0.1"
   ]
  },
  {
   "attachments": {},
   "cell_type": "markdown",
   "metadata": {},
   "source": [
    "### 1.1. Mise en place d'un perceptron simple"
   ]
  },
  {
   "attachments": {},
   "cell_type": "markdown",
   "metadata": {},
   "source": [
    "* *Créer la fonction `perceptron_simple(x, w, active)`*"
   ]
  },
  {
   "cell_type": "code",
   "execution_count": null,
   "metadata": {},
   "outputs": [],
   "source": [
    "ALPHA = 0.1  # learning rate\n",
    "\n",
    "def perceptron_simple(x, w, active):\n",
    "  seuil = w[0]\n",
    "  dot = np.dot(x, w[1:])\n",
    "  x = seuil + dot\n",
    "  return np.sign(x) if (active == 0) else np.tanh(x)\n",
    "\n",
    "\n",
    "def plot_with_class(X, weight, c, title, min_y, max_y):\n",
    "    x = np.linspace(min_y, max_y)\n",
    "    y = (weight[0] + x*weight[1]) / (-weight[2])\n",
    "    \n",
    "    plt.plot(x, y)\n",
    "    plt.title(title)\n",
    "    plt.scatter(X[:, 0], X[:, 1], c=c)\n",
    "    plt.xlabel('X')\n",
    "    plt.ylabel('Y')\n",
    "    plt.grid()\n",
    "    plt.xlim(min_y, max_y)\n",
    "    plt.ylim(min_y, max_y) \n",
    "    plt.show()"
   ]
  },
  {
   "attachments": {},
   "cell_type": "markdown",
   "metadata": {},
   "source": [
    "**[Question du formulaire] : Donner quelques éléments de commentaires sur la stratégie que vous avez utilisée pour \n",
    "développer le perceptron simple**"
   ]
  },
  {
   "attachments": {},
   "cell_type": "markdown",
   "metadata": {},
   "source": [
    "**[Réponse]** : Nous avons utilisé la fonction `np.dot` pour calculer le produit scalaire entre les vecteurs `x` et `w`. Ensuite nous avons ajouté le seuil à ce produit scalaire. Enfin nous avons utilisé la valeur de `active` pour obtenir la sortie du perceptron avec différentes fonctions d'activation (ici `np.tanh` et `np.sign`)."
   ]
  },
  {
   "attachments": {},
   "cell_type": "markdown",
   "metadata": {},
   "source": [
    "* *Tester votre perceptron avec l'exemple du OU logique vu en cours (en utilisant la fonction `sign(x)` comme fonction d'activation)*"
   ]
  },
  {
   "cell_type": "code",
   "execution_count": null,
   "metadata": {},
   "outputs": [],
   "source": [
    "W_OR = np.array([-0.5, 1, 1])\n",
    "X = np.array([[0, 0], [0, 1], [1, 0], [1, 1]])\n",
    "\n",
    "Result_OR = perceptron_simple(X, W_OR, 0) # TODO: fix this pcq j'ai pas compris son truc avec sign(x)\n",
    "print(Result_OR)"
   ]
  },
  {
   "attachments": {},
   "cell_type": "markdown",
   "metadata": {},
   "source": [
    "* *Afficher dans le cadre de l'exemple du OU logique sur la même figure les différents éléments de l'ensemble d'apprentissage et la droite séparatrice associée aux poids du neurone sur la même figure*"
   ]
  },
  {
   "cell_type": "code",
   "execution_count": null,
   "metadata": {},
   "outputs": [],
   "source": [
    "plot_with_class(X, W_OR, Result_OR, \"1.1 - Classification par perceptron simple sur un ensemble de données OR\", -1, 2)"
   ]
  },
  {
   "attachments": {},
   "cell_type": "markdown",
   "metadata": {},
   "source": [
    "**[Question du formulaire] : Montrer que votre code fonctionne dans le cas du OU**"
   ]
  },
  {
   "attachments": {},
   "cell_type": "markdown",
   "metadata": {},
   "source": [
    "**[Réponse]** : On observe ci-dessus que le perceptron fonctionne bien pour le OU logique."
   ]
  },
  {
   "attachments": {},
   "cell_type": "markdown",
   "metadata": {},
   "source": [
    "**[Question du formulaire] : Afficher la figure individu/frontière et commenter**"
   ]
  },
  {
   "attachments": {},
   "cell_type": "markdown",
   "metadata": {},
   "source": [
    "**[Réponse]** : On observe que la droite séparatrice est bien la droite qui sépare les deux classes. D'un côté on a les individus dont la sortie est 1 et de l'autre les individus dont la sortie est -1. Dans le cas du OU logique, [0,0] est associé à -1 et [0,1], [1,0] et [1,1] sont associés à 1."
   ]
  },
  {
   "attachments": {},
   "cell_type": "markdown",
   "metadata": {},
   "source": [
    "### 1.2. Etude de l'apprentissage"
   ]
  },
  {
   "attachments": {},
   "cell_type": "markdown",
   "metadata": {},
   "source": [
    "#### 1.2.1. Programmation apprentissage Widrow-Hoff"
   ]
  },
  {
   "attachments": {},
   "cell_type": "markdown",
   "metadata": {},
   "source": [
    "* *Créer la fonction `apprentissage_widrow(x, yd, epoch, batch_size)`. La droite séparatrice et les points d'apprentissage doivent être affichés à chaque itération (une itération correspond à la présentation de tous les individus de l'ensemble d'apprentissage), ains que l'erreur de classification*"
   ]
  },
  {
   "cell_type": "code",
   "execution_count": null,
   "metadata": {},
   "outputs": [],
   "source": [
    "def apprentissage_widrow(x, yd, epoch, batch_size):\n",
    "\n",
    "    w = np.random.randn(3)\n",
    "    errors = []\n",
    "    for i in range(epoch):\n",
    "        w_temp = w\n",
    "        errors.append(0)\n",
    "        for j in range(len(x)):\n",
    "\n",
    "            y = perceptron_simple(x[j], w, 1)  # with tanh\n",
    "            r = - (yd[j] - y) * (1 - y * y)\n",
    "\n",
    "            w_temp += ALPHA * r * np.array([1, x[j][0], x[j][1]])\n",
    "\n",
    "            errors[i] += r**2\n",
    "\n",
    "            if (j % batch_size) == 0: \n",
    "                w = w_temp\n",
    "        print(\"Epoch \", i + 1, \" : \", errors[i]) # Errr value display\n",
    "        \n",
    "        if (i % (epoch // 10) == 0): #allow to show only 10 plots at max\n",
    "            plot_with_class(x, w, yd, f\"Apprentissage_widrow epoch {i}\", min(x[:,0]) - 0.5, max(x[:,0]) + 0.5)\n",
    "\n",
    "        if (errors[i] == 0 or (i != 0 and (errors[i - 1] - errors[i] == 0))): break\n",
    "        \n",
    "    return w, errors"
   ]
  },
  {
   "attachments": {},
   "cell_type": "markdown",
   "metadata": {},
   "source": [
    "**[Question du formulaire] : Donner quelques éléments de commentaires sur la stratégie que vous avez utilisée pour \n",
    "développer l’apprentissage Widrow**"
   ]
  },
  {
   "attachments": {},
   "cell_type": "markdown",
   "metadata": {},
   "source": [
    "**[Réponse]** : Nous avons tout d'abord initialisé les poids aléatoirement. Ensuite nous avons parcouru les données d'apprentissage `epoch` fois. Pour chaque individu, nous avons calculé la sortie du perceptron et nous avons mis à jour les poids en fonction de l'erreur tout les `batch_size` individus. Enfin, pour suivre l'évolution de l'apprentissage, nous avons affiché la droite séparatrice tous les 10% de l'ensemble d'apprentissage. Nous avons également affiché l'erreur de classification à chaque itération."
   ]
  },
  {
   "attachments": {},
   "cell_type": "markdown",
   "metadata": {},
   "source": [
    "#### 1.2.2. Test 1 simple"
   ]
  },
  {
   "attachments": {},
   "cell_type": "markdown",
   "metadata": {},
   "source": [
    "* *Charger les données p2_d1.txt*"
   ]
  },
  {
   "cell_type": "code",
   "execution_count": null,
   "metadata": {},
   "outputs": [],
   "source": [
    "Data1 = np.loadtxt(\"res/p2_d1.txt\")\n",
    "CLASSIF = [1]*25 + [-1]*25\n",
    "plt.scatter(Data1[0, :25], Data1[1, :25], c='r')\n",
    "plt.scatter(Data1[0, 25:], Data1[1, 25:], c='b')\n",
    "plt.legend(['Classe 1', 'Classe 2'])"
   ]
  },
  {
   "attachments": {},
   "cell_type": "markdown",
   "metadata": {},
   "source": [
    "* *Appliquer l'algorithme d'apprentissage sur les données. Afficher l'évolution de l'erreur. Vérifier que la frontière est correcte*"
   ]
  },
  {
   "cell_type": "code",
   "execution_count": null,
   "metadata": {},
   "outputs": [],
   "source": [
    "w1, erreur1 = apprentissage_widrow(Data1.T, CLASSIF, 500, 25)\n",
    "print('W1 : ', w1)"
   ]
  },
  {
   "attachments": {},
   "cell_type": "markdown",
   "metadata": {},
   "source": [
    "**[Question du formulaire] : Indiquez graphiquement quelques étapes de l’apprentissage (ensemble et droite de \n",
    "séparation)**"
   ]
  },
  {
   "attachments": {},
   "cell_type": "markdown",
   "metadata": {},
   "source": [
    "**[Réponse]** : Voir ci-dessus."
   ]
  },
  {
   "attachments": {},
   "cell_type": "markdown",
   "metadata": {},
   "source": [
    "**[Question du formulaire] : Représenter l’erreur en fonction des itérations**"
   ]
  },
  {
   "cell_type": "code",
   "execution_count": null,
   "metadata": {},
   "outputs": [],
   "source": [
    "plt.plot(erreur1)"
   ]
  },
  {
   "attachments": {},
   "cell_type": "markdown",
   "metadata": {},
   "source": [
    "**[Réponse]** : Voir ci-dessus."
   ]
  },
  {
   "attachments": {},
   "cell_type": "markdown",
   "metadata": {},
   "source": [
    "**[Question du formulaire] : Faites quelques tests avec des initialisations différentes, commenter le résultat après \n",
    "convergence**"
   ]
  },
  {
   "attachments": {},
   "cell_type": "markdown",
   "metadata": {},
   "source": [
    "**[Réponse]** : On observe que l'erreur de classification tend vers 0. On remarque également que la droite séparatrice est bien la droite qui sépare les deux classes."
   ]
  },
  {
   "attachments": {},
   "cell_type": "markdown",
   "metadata": {},
   "source": [
    "#### 1.2.3. Test 2"
   ]
  },
  {
   "attachments": {},
   "cell_type": "markdown",
   "metadata": {},
   "source": [
    "* *Charger les données p2_d2.txt*"
   ]
  },
  {
   "cell_type": "code",
   "execution_count": null,
   "metadata": {},
   "outputs": [],
   "source": [
    "Data2 = np.loadtxt(\"res/p2_d2.txt\")\n",
    "plt.scatter(Data2[0, :25], Data2[1, :25], c='r')\n",
    "plt.scatter(Data2[0, 25:], Data2[1, 25:], c='b')\n",
    "plt.legend(['Classe 1', 'Classe 2'])"
   ]
  },
  {
   "attachments": {},
   "cell_type": "markdown",
   "metadata": {},
   "source": [
    "* *Appliquer l'algorithme d'apprentissage sur les données. Afficher l'évolution de l'erreur. Vérifier que la frontière est correcte*"
   ]
  },
  {
   "cell_type": "code",
   "execution_count": null,
   "metadata": {},
   "outputs": [],
   "source": [
    "w2, erreur2 = apprentissage_widrow(Data2.T, CLASSIF, 500, 25)\n",
    "print('W2 : ', w2)"
   ]
  },
  {
   "attachments": {},
   "cell_type": "markdown",
   "metadata": {},
   "source": [
    "**[Question du formulaire] : Indiquez graphiquement quelques étapes de l’apprentissage (ensemble et droite de \n",
    "séparation)**\n"
   ]
  },
  {
   "attachments": {},
   "cell_type": "markdown",
   "metadata": {},
   "source": [
    "**[Réponse]** : Voir ci-dessus."
   ]
  },
  {
   "attachments": {},
   "cell_type": "markdown",
   "metadata": {},
   "source": [
    "**[Question du formulaire] : Représenter l’erreur en fonction des itérations, Comparer avec le test précédent**"
   ]
  },
  {
   "cell_type": "code",
   "execution_count": null,
   "metadata": {},
   "outputs": [],
   "source": [
    "plt.plot(erreur2)"
   ]
  },
  {
   "attachments": {},
   "cell_type": "markdown",
   "metadata": {},
   "source": [
    "**[Réponse]** : On observe pour ce deuxième échantillon que l'erreur de classification ne tend pas vers 0. En effet, il y a des individus qui sont mal classés. Dû à la nature des données, il est difficile de trouver une droite séparatrice qui sépare les deux classes. Pour autant, on observe que la droite séparatrice est bien la droite qui sépare les deux classes au mieux. Il est également intéressant de noter que l'erreur réaugmente pendant un certain temps puis diminue à nouveau cette fois-ci vers 0."
   ]
  },
  {
   "attachments": {},
   "cell_type": "markdown",
   "metadata": {},
   "source": [
    "**[Question du formulaire] : Faites quelques tests avec des initialisations différentes, commenter le résultat après \n",
    "convergence**"
   ]
  },
  {
   "attachments": {},
   "cell_type": "markdown",
   "metadata": {},
   "source": [
    "**[Réponse]** : Voir ci-dessus."
   ]
  },
  {
   "attachments": {},
   "cell_type": "markdown",
   "metadata": {},
   "source": [
    "### 1.3 Perceptron multicouches"
   ]
  },
  {
   "attachments": {},
   "cell_type": "markdown",
   "metadata": {},
   "source": [
    "#### 1.3.1. Mise en place d'un perceptron multicouche"
   ]
  },
  {
   "attachments": {},
   "cell_type": "markdown",
   "metadata": {},
   "source": [
    "* *Créer la fonction `multiperceptron(x, w1, w2)`*"
   ]
  },
  {
   "cell_type": "code",
   "execution_count": null,
   "metadata": {},
   "outputs": [],
   "source": [
    "\n",
    "\n",
    "def multiperceptron(x, w1, w2):\n",
    "    \n",
    "    def activation(x): \n",
    "        return 1 / (1 + np.exp(-x))\n",
    "\n",
    "    x = np.array([1, x[0], x[1]])\n",
    "\n",
    "    u1 = np.dot(w1[:, 0], x)\n",
    "    u2 = np.dot(w1[:, 1], x)\n",
    "\n",
    "    y1 = activation(u1)\n",
    "    y2 = activation(u2)\n",
    "\n",
    "    uf = np.dot(w2, np.array([1, y1, y2]))\n",
    "    \n",
    "    yf = activation(uf)\n",
    "\n",
    "    return [y1, y2], yf\n"
   ]
  },
  {
   "attachments": {},
   "cell_type": "markdown",
   "metadata": {},
   "source": [
    "**[Question du formulaire] : Donner quelques éléments de commentaires sur la stratégie que vous avez utilisée pour \n",
    "développer le perceptron Multicouche**"
   ]
  },
  {
   "attachments": {},
   "cell_type": "markdown",
   "metadata": {},
   "source": [
    "**[Réponse]** : Nous avons tout d'abord créé une fonction `sigmoid` qui prend en paramètre un vecteur et qui renvoie le vecteur des valeurs de la fonction sigmoïde appliquée à chaque élément du vecteur. Ensuite nous avons créé la fonction `multiperceptron` qui prend en paramètre un vecteur `x` et deux matrices `w1` et `w2`. Cette fonction renvoie la sortie du perceptron multicouche. Pour cela, nous avons tout d'abord traversé la couche cachée en appliquant la fonction sigmoïde à la multiplication de `x` et `w1`. Ensuite nous avons traversé la couche de sortie en appliquant la fonction sigmoïde à la multiplication du résultat précédent et `w2`. Enfin, nous avons renvoyé le résultat de la couche de sortie."
   ]
  },
  {
   "attachments": {},
   "cell_type": "markdown",
   "metadata": {},
   "source": [
    "* *Tester votre perceptron multicouches avec l'exemple ci-dessous pour un entrée x = [1 1]' :*  \n",
    "  \n",
    "<img src=\"exemple_1_3_1.jpg\" width=\"600\">"
   ]
  },
  {
   "cell_type": "code",
   "execution_count": null,
   "metadata": {},
   "outputs": [],
   "source": [
    "x = np.array([1, 1])\n",
    "w1 = np.array([[-.5, .5], [2., .5], [-1., 1.]])\n",
    "w2 = np.array([2., -1., 1.])\n",
    "\n",
    "print(multiperceptron(x, w1, w2))"
   ]
  },
  {
   "attachments": {},
   "cell_type": "markdown",
   "metadata": {},
   "source": [
    "**[Question du formulaire] : Indiquer le résultat numérique et par calcul (en donnant le détail) pour le test demandé**"
   ]
  },
  {
   "attachments": {},
   "cell_type": "markdown",
   "metadata": {},
   "source": [
    "**[Réponse]** : On observe ci-dessus que le résultat est environ égal à 0.91. Pour le calcul, on a :\n",
    "\n",
    "u1 = 1 * -0.5 + 1 * 2 + 1 * -1 = 0.5  \n",
    "y1 = 1 / (1 + exp(-0.5)) = 0.62\n",
    " \n",
    "u2 = 1 * 0.5 + 1 * 0.5 + 1 * 1 = 2  \n",
    "y2 = 1 / (1 + exp(-2)) = 0.88\n",
    "\n",
    "uf = 1 * 2 + 0.62 * -1 + 0.88 * 1 = 2.26  \n",
    "yf = 1 / (1 + exp(-uf)) = 0.91"
   ]
  },
  {
   "attachments": {},
   "cell_type": "markdown",
   "metadata": {},
   "source": [
    "#### 1.3.2. Programmation apprentissage multicouches"
   ]
  },
  {
   "attachments": {},
   "cell_type": "markdown",
   "metadata": {},
   "source": [
    "* *Créer une fonction `multiperceptron_widrow(x, yd, epoch, batch_size)`*"
   ]
  },
  {
   "cell_type": "code",
   "execution_count": null,
   "metadata": {},
   "outputs": [],
   "source": [
    "ALPHA = 0.5\n",
    "\n",
    "def multiperceptron_widrow(x, yd, epoch, batch_size):\n",
    "    def derivative(x): \n",
    "        return x * (1 - x)\n",
    "\n",
    "    w1 = np.random.rand(3, 2) - 0.5\n",
    "    w2 = np.random.rand(3) - 0.5\n",
    "    new_w1 = np.zeros((3, 2))\n",
    "    new_w2 = np.zeros((3))\n",
    "    errors = np.zeros((epoch))\n",
    "\n",
    "    for i in range(epoch):\n",
    "        for j in range(x.shape[1]):\n",
    "            indiv = x[:, j]\n",
    "            target = yd[j]\n",
    "\n",
    "            y1_predict, yf_predict = multiperceptron(indiv, w1, w2)\n",
    "\n",
    "            errors[i] += (target - yf_predict)**2\n",
    "\n",
    "            rf = -(target - yf_predict) * derivative(yf_predict)\n",
    "\n",
    "            r11 = w2[1] * rf * derivative(y1_predict[0])\n",
    "            r12 = w2[2] * rf * derivative(y1_predict[1])\n",
    "\n",
    "            indiv = np.array([1, indiv[0], indiv[1]])\n",
    "\n",
    "            new_w1[:, 0] += - ALPHA * r11 * indiv\n",
    "            new_w1[:, 1] += - ALPHA * r12 * indiv\n",
    "\n",
    "            y1_predict = np.array([1, y1_predict[0], y1_predict[1]])\n",
    "\n",
    "            new_w2 += - ALPHA * rf * y1_predict\n",
    "\n",
    "            if j % batch_size == 0:\n",
    "                w1 += new_w1\n",
    "                w2 += new_w2\n",
    "                new_w1 = np.zeros((3, 2))\n",
    "                new_w2 = np.zeros((3))\n",
    "                \n",
    "        error = round(errors[i], 3)\n",
    "\n",
    "        print(\"epoch\", i + 1, \" : \", error)\n",
    "\n",
    "        if error < 0.01:\n",
    "            break\n",
    "\n",
    "    return w1, w2, errors"
   ]
  },
  {
   "attachments": {},
   "cell_type": "markdown",
   "metadata": {},
   "source": [
    "**[Question du formulaire] : Donner quelques éléments de commentaires sur la stratégie que vous avez utilisée pour \n",
    "développer l’apprentissage Multicouche**"
   ]
  },
  {
   "attachments": {},
   "cell_type": "markdown",
   "metadata": {},
   "source": [
    "**[Réponse]** : Nous avons tout d'abord créé une fonction `multiperceptron_widrow` qui prend en paramètre un vecteur `x`, un vecteur `yd`, un entier `epoch` et un entier `batch_size`. Cette fonction renvoie les matrices `w1` et `w2` et `errors` après apprentissage. Pour cela, nous avons tout d'abord créé les matrices `w1` et `w2` aléatoirement. Ensuite nous avons créé une boucle qui va s'exécuter `epoch` fois. Dans cette boucle, nous passons par chaque individu de l'échantillon `x`. Pour chaque individu, nous calculons la sortie du perceptron multicouche. Ensuite nous calculons l'erreur de classification. Enfin nous mettons à jour les matrices `w1` et `w2` tous les `batch_size` individus. Enfin nous renvoyons les matrices `w1` et `w2` et `errors`."
   ]
  },
  {
   "attachments": {},
   "cell_type": "markdown",
   "metadata": {},
   "source": [
    "* *Créer l'ensemble d'apprentissage*"
   ]
  },
  {
   "cell_type": "code",
   "execution_count": null,
   "metadata": {},
   "outputs": [],
   "source": [
    "x = np.array([[0, 1, 0, 1], [0, 0, 1, 1]])\n",
    "yd = np.array([0, 1, 1, 0])\n",
    "epoch = 20000"
   ]
  },
  {
   "attachments": {},
   "cell_type": "markdown",
   "metadata": {},
   "source": [
    "* *Afficher cet ensemble avec la fonction affiche_classe*"
   ]
  },
  {
   "cell_type": "code",
   "execution_count": null,
   "metadata": {},
   "outputs": [],
   "source": [
    "plt.scatter(x[0, yd == 0], x[1, yd == 0], c='r')\n",
    "plt.scatter(x[0, yd == 1], x[1, yd == 1], c='b')\n",
    "plt.legend(['False', 'True'])"
   ]
  },
  {
   "attachments": {},
   "cell_type": "markdown",
   "metadata": {},
   "source": [
    "* *Pensez-vous que ce problème puisse être traité par un perceptron simple ?*"
   ]
  },
  {
   "attachments": {},
   "cell_type": "markdown",
   "metadata": {},
   "source": [
    "Nous ne pouvons pas traiter ce problème avec un perceptron simple car il n'est pas linéairement séparable. En effet, il n'existe pas de droite qui sépare les deux classes."
   ]
  },
  {
   "attachments": {},
   "cell_type": "markdown",
   "metadata": {},
   "source": [
    "* *Appliquer votre algorithme d'apprentissage*"
   ]
  },
  {
   "cell_type": "code",
   "execution_count": null,
   "metadata": {},
   "outputs": [],
   "source": [
    "w1, w2, erreur = multiperceptron_widrow(x, yd, epoch, 4)\n",
    "print(erreur)"
   ]
  },
  {
   "attachments": {},
   "cell_type": "markdown",
   "metadata": {},
   "source": [
    "**[Question du formulaire] : Représenter l’erreur en fonction des itérations. Commenter**"
   ]
  },
  {
   "cell_type": "code",
   "execution_count": null,
   "metadata": {},
   "outputs": [],
   "source": [
    "plt.plot(erreur)"
   ]
  },
  {
   "attachments": {},
   "cell_type": "markdown",
   "metadata": {},
   "source": [
    "**[Réponse]** : Voir ci-dessus."
   ]
  },
  {
   "attachments": {},
   "cell_type": "markdown",
   "metadata": {},
   "source": [
    "* *Tester, à partir de votre fonction `multiperceptron`, le réseau de neurones ainsi obtenu sur l'ensemble d'apprentissage*"
   ]
  },
  {
   "cell_type": "code",
   "execution_count": null,
   "metadata": {},
   "outputs": [],
   "source": [
    "print(multiperceptron(np.array([0, 0]), w1, w2))\n",
    "print(multiperceptron(np.array([0, 1]), w1, w2))\n",
    "print(multiperceptron(np.array([1, 0]), w1, w2))\n",
    "print(multiperceptron(np.array([1, 1]), w1, w2))"
   ]
  },
  {
   "attachments": {},
   "cell_type": "markdown",
   "metadata": {},
   "source": [
    "**[Question du formulaire] : Tester votre structure après apprentissage et montrer que c’est bien un XOR**"
   ]
  },
  {
   "attachments": {},
   "cell_type": "markdown",
   "metadata": {},
   "source": [
    "**[Réponse]** : On obser ci-dessus que le résultat est bien un XOR. En effet, on a :  \n",
    "pour x = [0 0] : y = 0  \n",
    "pour x = [0 1] : y = 1  \n",
    "pour x = [1 0] : y = 1  \n",
    "pour x = [1 1] : y = 0  "
   ]
  },
  {
   "attachments": {},
   "cell_type": "markdown",
   "metadata": {},
   "source": [
    "* *Afficher les droites séparatrices associées aux différents neurones et les points de l'ensemble d'apprentissage*"
   ]
  },
  {
   "cell_type": "code",
   "execution_count": null,
   "metadata": {},
   "outputs": [],
   "source": [
    "x = np.linspace(-2, 2)\n",
    "\n",
    "y = (w1[0, 0] + x*w1[1, 0]) / (-w1[2, 0])\n",
    "y2 = (w1[0, 1] + x*w1[1, 1]) / (-w1[2, 1])\n",
    "y3 = (w2[0] + x*w2[1]) / (-w2[2])\n",
    "\n",
    "\n",
    "plt.plot(x, y)\n",
    "plt.plot(x, y2)\n",
    "plt.plot(x, y3)\n",
    "plt.scatter(X[:, 0], X[:, 1])\n",
    "plt.legend(['P1', 'P2', 'P3', 'Data'])\n",
    "plt.grid()\n",
    "plt.show()"
   ]
  },
  {
   "attachments": {},
   "cell_type": "markdown",
   "metadata": {},
   "source": [
    "**[Question du formulaire] : Représenter les trois droites séparatrices et l’ensemble d’apprentissage. Expliquer le \n",
    "fonctionnement**"
   ]
  },
  {
   "attachments": {},
   "cell_type": "markdown",
   "metadata": {},
   "source": [
    "**[Réponse]** : Voir ci-dessus. On observe bien que les droites permettent de séparer les deux classes."
   ]
  },
  {
   "attachments": {},
   "cell_type": "markdown",
   "metadata": {},
   "source": [
    "## 2. Deep et Full-connected : discrimination d'une image"
   ]
  },
  {
   "attachments": {},
   "cell_type": "markdown",
   "metadata": {},
   "source": [
    "### 2.1. Approche basée Descripteurs (basé modèle)"
   ]
  },
  {
   "attachments": {},
   "cell_type": "markdown",
   "metadata": {},
   "source": [
    "#### 2.1.1. Calcul des descripteurs"
   ]
  },
  {
   "attachments": {},
   "cell_type": "markdown",
   "metadata": {},
   "source": [
    "* *Importer les différents tableaux de mesure et créer un vecteur de label indiquant la classe sous forme d'un chiffre de chauqe image*"
   ]
  },
  {
   "cell_type": "code",
   "execution_count": null,
   "metadata": {},
   "outputs": [],
   "source": [
    "#TODO"
   ]
  },
  {
   "attachments": {},
   "cell_type": "markdown",
   "metadata": {},
   "source": [
    "#### 2.1.2. Mise en place d'un système de discrimination basé structure Full-Connected"
   ]
  },
  {
   "attachments": {},
   "cell_type": "markdown",
   "metadata": {},
   "source": [
    "* *Mettre en place un système de discrimination qui pour la présentation d'une image inconnue et de son vecteur de mesures associé propose une classe*"
   ]
  },
  {
   "attachments": {},
   "cell_type": "markdown",
   "metadata": {},
   "source": [
    "* *Tester la procédure de la classification avec les 5 types de mesures et différentes images incoonues*"
   ]
  },
  {
   "cell_type": "code",
   "execution_count": null,
   "metadata": {},
   "outputs": [],
   "source": [
    "#TODO"
   ]
  },
  {
   "attachments": {},
   "cell_type": "markdown",
   "metadata": {},
   "source": [
    "* *Analyser les résultats (matrice de confusion, taux d'erreur)*"
   ]
  },
  {
   "cell_type": "code",
   "execution_count": null,
   "metadata": {},
   "outputs": [],
   "source": [
    "#TODO"
   ]
  },
  {
   "attachments": {},
   "cell_type": "markdown",
   "metadata": {},
   "source": [
    "TODO commentaires"
   ]
  },
  {
   "attachments": {},
   "cell_type": "markdown",
   "metadata": {},
   "source": [
    "* *Comparer avec différents hyperparamètres ????(nombre de neurones, nombre de couches, nombre d'itérations, taille du batch)????*"
   ]
  },
  {
   "cell_type": "code",
   "execution_count": null,
   "metadata": {},
   "outputs": [],
   "source": [
    "#TODO"
   ]
  },
  {
   "attachments": {},
   "cell_type": "markdown",
   "metadata": {},
   "source": [
    "TODO commentaires"
   ]
  },
  {
   "attachments": {},
   "cell_type": "markdown",
   "metadata": {},
   "source": [
    "#### 2.1.3. Approche \"Deep\" (basée Data)"
   ]
  },
  {
   "attachments": {},
   "cell_type": "markdown",
   "metadata": {},
   "source": [
    "* *Mettre en place un système de classification qui a en données une image, calcul les descripteurs par des couches de convolution*"
   ]
  },
  {
   "cell_type": "code",
   "execution_count": null,
   "metadata": {},
   "outputs": [],
   "source": [
    "#TODO"
   ]
  },
  {
   "attachments": {},
   "cell_type": "markdown",
   "metadata": {},
   "source": [
    "* *Tester des structures simples*"
   ]
  },
  {
   "attachments": {},
   "cell_type": "markdown",
   "metadata": {},
   "source": [
    "* *Etudier l'influence des paramètres*"
   ]
  },
  {
   "attachments": {},
   "cell_type": "markdown",
   "metadata": {},
   "source": [
    "* *Etudier l'évolution de la fonction de coût*"
   ]
  },
  {
   "attachments": {},
   "cell_type": "markdown",
   "metadata": {},
   "source": [
    "* *Comparer avec les résultats avec les méthodes basées caractéristiques*"
   ]
  },
  {
   "attachments": {},
   "cell_type": "markdown",
   "metadata": {},
   "source": [
    "* *Tester avec des structures plus complexes. La \"Data augmentation\" doit probablement être utilisée*"
   ]
  },
  {
   "cell_type": "code",
   "execution_count": null,
   "metadata": {},
   "outputs": [],
   "source": [
    "#TODO"
   ]
  }
 ],
 "metadata": {
  "kernelspec": {
   "display_name": "Python 3",
   "language": "python",
   "name": "python3"
  },
  "language_info": {
   "codemirror_mode": {
    "name": "ipython",
    "version": 3
   },
   "file_extension": ".py",
   "mimetype": "text/x-python",
   "name": "python",
   "nbconvert_exporter": "python",
   "pygments_lexer": "ipython3",
   "version": "3.11.0"
  },
  "orig_nbformat": 4,
  "vscode": {
   "interpreter": {
    "hash": "1b61e917d6ad3e5d02f663cba6141443e606000472f96c31a26072d2f8efb53e"
   }
  }
 },
 "nbformat": 4,
 "nbformat_minor": 2
}
